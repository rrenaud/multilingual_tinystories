{
 "cells": [
  {
   "cell_type": "code",
   "execution_count": 1,
   "metadata": {},
   "outputs": [
    {
     "name": "stderr",
     "output_type": "stream",
     "text": [
      "/home/rrenaud/miniconda3/envs/med_bib/lib/python3.12/site-packages/tqdm/auto.py:21: TqdmWarning: IProgress not found. Please update jupyter and ipywidgets. See https://ipywidgets.readthedocs.io/en/stable/user_install.html\n",
      "  from .autonotebook import tqdm as notebook_tqdm\n"
     ]
    }
   ],
   "source": [
    "import google.generativeai as genai\n",
    "import os\n",
    "import json"
   ]
  },
  {
   "cell_type": "code",
   "execution_count": 2,
   "metadata": {},
   "outputs": [],
   "source": [
    "GEMINI_API_KEY = open(os.path.expanduser('~/.gemini_api_key'), 'r').read().strip()\n",
    "genai.configure(api_key=GEMINI_API_KEY)\n",
    "safety_settings = [{'category': c, 'threshold': 'BLOCK_NONE'} for c in\n",
    "                    ['HARM_CATEGORY_DANGEROUS', 'HARM_CATEGORY_HARASSMENT', 'HARM_CATEGORY_HATE_SPEECH',\n",
    "                     'HARM_CATEGORY_SEXUALLY_EXPLICIT', 'HARM_CATEGORY_DANGEROUS_CONTENT']]\n",
    "flash = genai.GenerativeModel('gemini-1.5-flash', safety_settings=safety_settings)"
   ]
  },
  {
   "cell_type": "code",
   "execution_count": 3,
   "metadata": {},
   "outputs": [],
   "source": [
    "stories = json.load(open('spanish_stories/stories_00.json', 'r'))"
   ]
  },
  {
   "cell_type": "code",
   "execution_count": 4,
   "metadata": {},
   "outputs": [
    {
     "name": "stdout",
     "output_type": "stream",
     "text": [
      "Un día, un niño llamado Leo jugó con cartas. Él tomó las cartas y las puso en un montón. Después, él las puso en otro montón. ¡Él inventó un nuevo juego! \n",
      "\n",
      "Leo miró las cartas. Él vio un gato. \"¡Miau!\" dijo el gato. Después, él vio un perro. \"¡Guau!\" dijo el perro. Leo sonrió. Él pensó que su juego era divertido. \n",
      "\n",
      "Después de jugar, Leo se fue a la cama. Él soñaba con el gato y el perro. En su sueño, el gato y el perro corrieron juntos. Ellos eran felices.\n",
      "\n",
      "¡De repente! Leo despertó. Él sintió que algo no estaba bien. Él fue a la ventana. Él vio al gato y al perro jugando afuera. ¡El sueño se había hecho realidad! \n",
      "\n",
      "Leo corrió afuera y jugó con el gato y el perro. Él jugó despacio. Él no quería asustarlos. Él era feliz. Él sabía que su sueño había sido real. \n",
      "\n"
     ]
    }
   ],
   "source": [
    "print(stories[0]['story'])"
   ]
  },
  {
   "cell_type": "code",
   "execution_count": 12,
   "metadata": {},
   "outputs": [
    {
     "name": "stdout",
     "output_type": "stream",
     "text": [
      "Translate the following story to English:\n",
      "\n",
      "Una niña llamada Lily estaba enferma.  Tenía mucho frío.  Mamá dijo, \"Lily, ponte tus botas\".  Lily dijo, \"¡No quiero!\"  Mamá dijo, \"Si te pones las botas, te sentirás mejor\".  Lily dijo, \"¡Ganaré!\"  Lily se puso las botas.  ¡Se sintió mejor!\n",
      "\n",
      "Lily fue al parque.  Vio a un perro.  El perro dijo, \"Woof!\"  Lily dijo, \"¡Hola!\"  El perro corrió.  Lily corrió también.  ¡Se divirtió mucho!\n",
      "\n",
      "Después, Lily regresó a casa.  Mamá la abrazó.  Mamá dijo, \"¡Me alegro de que te sientas mejor!\"  Lily dijo, \"¡Yo también!\"  Lily se sentó en el sofá.  Mamá le dio un beso.  Lily se sintió muy feliz.\n",
      "\n",
      "Lily se fue a la cama.  Mamá le leyó una historia.  Lily cerró los ojos.  Mamá dijo, \"Buenas noches, mi amor.\"  Lily dijo, \"Buenas noches, mamá.\"  Lily soñó con perros y botas.  Fue una buena noche.\n",
      "\n",
      "A little girl named Lily was sick.  She was very cold.  Mom said, \"Lily, put on your boots.\"  Lily said, \"I don't want to!\"  Mom said, \"If you put on your boots, you'll feel better.\"  Lily said, \"I'll win!\"  Lily put on her boots.  She felt better!\n",
      "\n",
      "Lily went to the park.  She saw a dog.  The dog said, \"Woof!\"  Lily said, \"Hello!\"  The dog ran.  Lily ran too.  She had so much fun!\n",
      "\n",
      "Later, Lily went back home.  Mom hugged her.  Mom said, \"I'm glad you feel better!\"  Lily said, \"Me too!\"  Lily sat on the couch.  Mom gave her a kiss.  Lily felt very happy.\n",
      "\n",
      "Lily went to bed.  Mom read her a story.  Lily closed her eyes.  Mom said, \"Good night, my love.\"  Lily said, \"Good night, Mom.\"  Lily dreamed of dogs and boots.  It was a good night. \n",
      "\n"
     ]
    }
   ],
   "source": [
    "prompt = \"Translate the following story to English:\\n\\n\" + stories[1]['story']\n",
    "print(prompt)\n",
    "# resp = flash.generate_content(prompt)\n",
    "print(resp.text)\n"
   ]
  },
  {
   "cell_type": "code",
   "execution_count": null,
   "metadata": {},
   "outputs": [],
   "source": []
  }
 ],
 "metadata": {
  "kernelspec": {
   "display_name": "tiny_stories",
   "language": "python",
   "name": "python3"
  },
  "language_info": {
   "codemirror_mode": {
    "name": "ipython",
    "version": 3
   },
   "file_extension": ".py",
   "mimetype": "text/x-python",
   "name": "python",
   "nbconvert_exporter": "python",
   "pygments_lexer": "ipython3",
   "version": "3.12.4"
  }
 },
 "nbformat": 4,
 "nbformat_minor": 2
}
