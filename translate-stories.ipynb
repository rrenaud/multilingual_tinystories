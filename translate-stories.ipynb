{
 "cells": [
  {
   "cell_type": "code",
   "execution_count": 43,
   "metadata": {},
   "outputs": [],
   "source": [
    "import google.generativeai as genai\n",
    "import os\n",
    "import json\n",
    "from openai import OpenAI\n",
    "import tqdm\n",
    "import hashlib\n",
    "import time\n",
    "import threading"
   ]
  },
  {
   "cell_type": "code",
   "execution_count": 6,
   "metadata": {},
   "outputs": [],
   "source": [
    "openai_key = open(os.path.expanduser('~/.openai_key.txt')).read().strip()\n",
    "client = OpenAI(api_key=openai_key)"
   ]
  },
  {
   "cell_type": "code",
   "execution_count": 7,
   "metadata": {},
   "outputs": [],
   "source": [
    "stories = json.load(open('spanish_stories/stories_00.json', 'r'))"
   ]
  },
  {
   "cell_type": "code",
   "execution_count": 8,
   "metadata": {},
   "outputs": [
    {
     "name": "stdout",
     "output_type": "stream",
     "text": [
      "Un día, un niño llamado Leo jugó con cartas. Él tomó las cartas y las puso en un montón. Después, él las puso en otro montón. ¡Él inventó un nuevo juego! \n",
      "\n",
      "Leo miró las cartas. Él vio un gato. \"¡Miau!\" dijo el gato. Después, él vio un perro. \"¡Guau!\" dijo el perro. Leo sonrió. Él pensó que su juego era divertido. \n",
      "\n",
      "Después de jugar, Leo se fue a la cama. Él soñaba con el gato y el perro. En su sueño, el gato y el perro corrieron juntos. Ellos eran felices.\n",
      "\n",
      "¡De repente! Leo despertó. Él sintió que algo no estaba bien. Él fue a la ventana. Él vio al gato y al perro jugando afuera. ¡El sueño se había hecho realidad! \n",
      "\n",
      "Leo corrió afuera y jugó con el gato y el perro. Él jugó despacio. Él no quería asustarlos. Él era feliz. Él sabía que su sueño había sido real. \n",
      "\n"
     ]
    }
   ],
   "source": [
    "print(stories[0]['story'])"
   ]
  },
  {
   "cell_type": "code",
   "execution_count": 13,
   "metadata": {},
   "outputs": [],
   "source": [
    "def make_translation_request(story):\n",
    "    prompt = f\"\"\"You are tasked with translating a children's story from Spanish to English. \n",
    "Your goal is to create an accurate translation that maintains the original story's tone, style, and \n",
    "meaning while making it accessible to English-speaking children who only know simple words. \n",
    "Here is the Spanish story <spanish_story>{story}</spanish_story> \n",
    "Present your translation within <english_translation> tags.\"\"\"\n",
    "    return prompt\n",
    "    "
   ]
  },
  {
   "cell_type": "code",
   "execution_count": 14,
   "metadata": {},
   "outputs": [
    {
     "name": "stdout",
     "output_type": "stream",
     "text": [
      "You are tasked with translating a children's story from Spanish to English. \n",
      "Your goal is to create an accurate translation that maintains the original story's tone, style, and \n",
      "meaning while making it accessible to English-speaking children who only know simple words. \n",
      "Here is the Spanish story <spanish_story>Un día, un niño llamado Leo jugó con cartas. Él tomó las cartas y las puso en un montón. Después, él las puso en otro montón. ¡Él inventó un nuevo juego! \n",
      "\n",
      "Leo miró las cartas. Él vio un gato. \"¡Miau!\" dijo el gato. Después, él vio un perro. \"¡Guau!\" dijo el perro. Leo sonrió. Él pensó que su juego era divertido. \n",
      "\n",
      "Después de jugar, Leo se fue a la cama. Él soñaba con el gato y el perro. En su sueño, el gato y el perro corrieron juntos. Ellos eran felices.\n",
      "\n",
      "¡De repente! Leo despertó. Él sintió que algo no estaba bien. Él fue a la ventana. Él vio al gato y al perro jugando afuera. ¡El sueño se había hecho realidad! \n",
      "\n",
      "Leo corrió afuera y jugó con el gato y el perro. Él jugó despacio. Él no quería asustarlos. Él era feliz. Él sabía que su sueño había sido real. \n",
      "</spanish_story> \n",
      "Present your translation within <english_translation> tags.\n"
     ]
    }
   ],
   "source": [
    "print(make_translation_request(stories[0]['story']))"
   ]
  },
  {
   "cell_type": "code",
   "execution_count": 29,
   "metadata": {},
   "outputs": [],
   "source": [
    "def execute_translation_request(story_text):\n",
    "    req = make_translation_request(story_text)\n",
    "    return client.chat.completions.create(\n",
    "        model=\"gpt-4o-mini\",\n",
    "        max_tokens=4096,\n",
    "        messages = [{\"role\": \"user\", \"content\": req}])\n",
    "\n",
    "def get_translation(response):\n",
    "    return response.choices[0].message.content.split('<english_translation>')[1].split('</english_translation>')[0]"
   ]
  },
  {
   "cell_type": "code",
   "execution_count": 24,
   "metadata": {},
   "outputs": [
    {
     "ename": "TypeError",
     "evalue": "'ChatCompletion' object is not subscriptable",
     "output_type": "error",
     "traceback": [
      "\u001b[0;31m---------------------------------------------------------------------------\u001b[0m",
      "\u001b[0;31mTypeError\u001b[0m                                 Traceback (most recent call last)",
      "Cell \u001b[0;32mIn[24], line 2\u001b[0m\n\u001b[1;32m      1\u001b[0m resp \u001b[38;5;241m=\u001b[39m execute_translation_request(stories[\u001b[38;5;241m1\u001b[39m][\u001b[38;5;124m'\u001b[39m\u001b[38;5;124mstory\u001b[39m\u001b[38;5;124m'\u001b[39m])\n\u001b[0;32m----> 2\u001b[0m \u001b[38;5;28mprint\u001b[39m(get_translation(resp))\n",
      "Cell \u001b[0;32mIn[23], line 9\u001b[0m, in \u001b[0;36mget_translation\u001b[0;34m(response)\u001b[0m\n\u001b[1;32m      8\u001b[0m \u001b[38;5;28;01mdef\u001b[39;00m \u001b[38;5;21mget_translation\u001b[39m(response):\n\u001b[0;32m----> 9\u001b[0m     \u001b[38;5;28;01mreturn\u001b[39;00m response[\u001b[38;5;241m0\u001b[39m]\u001b[38;5;241m.\u001b[39mmessage\u001b[38;5;241m.\u001b[39mcontent\u001b[38;5;241m.\u001b[39msplit(\u001b[38;5;124m'\u001b[39m\u001b[38;5;124m<english_translation>\u001b[39m\u001b[38;5;124m'\u001b[39m)[\u001b[38;5;241m1\u001b[39m]\u001b[38;5;241m.\u001b[39msplit(\u001b[38;5;124m'\u001b[39m\u001b[38;5;124m</english_translation>\u001b[39m\u001b[38;5;124m'\u001b[39m)[\u001b[38;5;241m0\u001b[39m]\n",
      "\u001b[0;31mTypeError\u001b[0m: 'ChatCompletion' object is not subscriptable"
     ]
    }
   ],
   "source": [
    "resp = execute_translation_request(stories[1]['story'])\n"
   ]
  },
  {
   "cell_type": "code",
   "execution_count": 31,
   "metadata": {},
   "outputs": [
    {
     "name": "stdout",
     "output_type": "stream",
     "text": [
      "Una niña llamada Lily estaba enferma.  Tenía mucho frío.  Mamá dijo, \"Lily, ponte tus botas\".  Lily dijo, \"¡No quiero!\"  Mamá dijo, \"Si te pones las botas, te sentirás mejor\".  Lily dijo, \"¡Ganaré!\"  Lily se puso las botas.  ¡Se sintió mejor!\n",
      "\n",
      "Lily fue al parque.  Vio a un perro.  El perro dijo, \"Woof!\"  Lily dijo, \"¡Hola!\"  El perro corrió.  Lily corrió también.  ¡Se divirtió mucho!\n",
      "\n",
      "Después, Lily regresó a casa.  Mamá la abrazó.  Mamá dijo, \"¡Me alegro de que te sientas mejor!\"  Lily dijo, \"¡Yo también!\"  Lily se sentó en el sofá.  Mamá le dio un beso.  Lily se sintió muy feliz.\n",
      "\n",
      "Lily se fue a la cama.  Mamá le leyó una historia.  Lily cerró los ojos.  Mamá dijo, \"Buenas noches, mi amor.\"  Lily dijo, \"Buenas noches, mamá.\"  Lily soñó con perros y botas.  Fue una buena noche.\n",
      "\n"
     ]
    }
   ],
   "source": [
    "print(stories[1]['story'])"
   ]
  },
  {
   "cell_type": "code",
   "execution_count": 50,
   "metadata": {},
   "outputs": [],
   "source": [
    "def translate_and_save(story_json, thread_id):\n",
    "    resp = execute_translation_request(story_json['story'])\n",
    "    translation = get_translation(resp)\n",
    "    md5 = hashlib.md5(story_json['story'].encode()).hexdigest()\n",
    "    story_json['translation'] = translation\n",
    "    with open(f'spanish_stories_translated/story-{thread_id}-{md5}.json', 'w') as f:\n",
    "        json.dump(story_json, f)\n",
    "\n",
    "def translate_story_range(start, end, thread_id):\n",
    "    successes = 0\n",
    "    fails = 0\n",
    "    for i in range(start, end):\n",
    "        try:\n",
    "            translate_and_save(stories[i], thread_id)\n",
    "            successes += 1\n",
    "        except Exception as e:\n",
    "            print('skipping story', i, 'on thread', thread_id, 'because', e)\n",
    "            time.sleep(30)\n",
    "            fails += 1\n",
    "    if i % 100 == 0:\n",
    "        print('thread', thread_id, 'completed', i - start, 'stories', 'successes:', successes, 'fails:', fails)"
   ]
  },
  {
   "cell_type": "code",
   "execution_count": 51,
   "metadata": {},
   "outputs": [
    {
     "name": "stdout",
     "output_type": "stream",
     "text": [
      "skipping story 62545 on thread 5 because Error code: 429 - {'error': {'message': 'Rate limit reached for gpt-4o-mini in organization org-SrRUtA8yGUqebUV3XD1Jqln4 on tokens per min (TPM): Limit 60000, Used 56393, Requested 4442. Please try again in 835ms. Visit https://platform.openai.com/account/rate-limits to learn more.', 'type': 'tokens', 'param': None, 'code': 'rate_limit_exceeded'}}\n",
      "skipping story 61 on thread 0 because Error code: 429 - {'error': {'message': 'Rate limit reached for gpt-4o-mini in organization org-SrRUtA8yGUqebUV3XD1Jqln4 on tokens per min (TPM): Limit 60000, Used 56698, Requested 4341. Please try again in 1.039s. Visit https://platform.openai.com/account/rate-limits to learn more.', 'type': 'tokens', 'param': None, 'code': 'rate_limit_exceeded'}}\n",
      "skipping story 62 on thread 0 because Error code: 429 - {'error': {'message': 'Rate limit reached for gpt-4o-mini in organization org-SrRUtA8yGUqebUV3XD1Jqln4 on tokens per min (TPM): Limit 60000, Used 58637, Requested 4350. Please try again in 2.987s. Visit https://platform.openai.com/account/rate-limits to learn more.', 'type': 'tokens', 'param': None, 'code': 'rate_limit_exceeded'}}\n",
      "skipping story 50091 on thread 4 because Error code: 429 - {'error': {'message': 'Rate limit reached for gpt-4o-mini in organization org-SrRUtA8yGUqebUV3XD1Jqln4 on tokens per min (TPM): Limit 60000, Used 55698, Requested 4387. Please try again in 85ms. Visit https://platform.openai.com/account/rate-limits to learn more.', 'type': 'tokens', 'param': None, 'code': 'rate_limit_exceeded'}}\n",
      "skipping story 37600 on thread 3 because Error code: 429 - {'error': {'message': 'Rate limit reached for gpt-4o-mini in organization org-SrRUtA8yGUqebUV3XD1Jqln4 on tokens per min (TPM): Limit 60000, Used 58297, Requested 4314. Please try again in 2.611s. Visit https://platform.openai.com/account/rate-limits to learn more.', 'type': 'tokens', 'param': None, 'code': 'rate_limit_exceeded'}}\n",
      "skipping story 37601 on thread 3 because Error code: 429 - {'error': {'message': 'Rate limit reached for gpt-4o-mini in organization org-SrRUtA8yGUqebUV3XD1Jqln4 on tokens per min (TPM): Limit 60000, Used 59249, Requested 4339. Please try again in 3.588s. Visit https://platform.openai.com/account/rate-limits to learn more.', 'type': 'tokens', 'param': None, 'code': 'rate_limit_exceeded'}}\n",
      "skipping story 75123 on thread 6 because Error code: 429 - {'error': {'message': 'Rate limit reached for gpt-4o-mini in organization org-SrRUtA8yGUqebUV3XD1Jqln4 on tokens per min (TPM): Limit 60000, Used 59862, Requested 4375. Please try again in 4.237s. Visit https://platform.openai.com/account/rate-limits to learn more.', 'type': 'tokens', 'param': None, 'code': 'rate_limit_exceeded'}}\n",
      "skipping story 25130 on thread 2 because Error code: 429 - {'error': {'message': 'Rate limit reached for gpt-4o-mini in organization org-SrRUtA8yGUqebUV3XD1Jqln4 on tokens per min (TPM): Limit 60000, Used 56033, Requested 4418. Please try again in 451ms. Visit https://platform.openai.com/account/rate-limits to learn more.', 'type': 'tokens', 'param': None, 'code': 'rate_limit_exceeded'}}\n",
      "skipping story 50137 on thread 4 because Error code: 429 - {'error': {'message': 'Rate limit reached for gpt-4o-mini in organization org-SrRUtA8yGUqebUV3XD1Jqln4 on tokens per min (TPM): Limit 60000, Used 55756, Requested 4361. Please try again in 117ms. Visit https://platform.openai.com/account/rate-limits to learn more.', 'type': 'tokens', 'param': None, 'code': 'rate_limit_exceeded'}}\n",
      "skipping story 37630 on thread 3 because Error code: 429 - {'error': {'message': 'Rate limit reached for gpt-4o-mini in organization org-SrRUtA8yGUqebUV3XD1Jqln4 on tokens per min (TPM): Limit 60000, Used 55960, Requested 4405. Please try again in 365ms. Visit https://platform.openai.com/account/rate-limits to learn more.', 'type': 'tokens', 'param': None, 'code': 'rate_limit_exceeded'}}\n",
      "skipping story 12677 on thread 1 because Error code: 429 - {'error': {'message': 'Rate limit reached for gpt-4o-mini in organization org-SrRUtA8yGUqebUV3XD1Jqln4 on tokens per min (TPM): Limit 60000, Used 55948, Requested 4434. Please try again in 382ms. Visit https://platform.openai.com/account/rate-limits to learn more.', 'type': 'tokens', 'param': None, 'code': 'rate_limit_exceeded'}}\n",
      "skipping story 62685 on thread 5 because Error code: 429 - {'error': {'message': 'Rate limit reached for gpt-4o-mini in organization org-SrRUtA8yGUqebUV3XD1Jqln4 on tokens per min (TPM): Limit 60000, Used 56111, Requested 4347. Please try again in 458ms. Visit https://platform.openai.com/account/rate-limits to learn more.', 'type': 'tokens', 'param': None, 'code': 'rate_limit_exceeded'}}\n"
     ]
    }
   ],
   "source": [
    "NUM_THREADS = 8\n",
    "NUM_STORIES = len(stories)\n",
    "\n",
    "stories_per_thread = NUM_STORIES // NUM_THREADS\n",
    "start_of_ranges = [i * stories_per_thread for i in range(NUM_THREADS)]\n",
    "end_of_ranges = [(i + 1) * stories_per_thread for i in range(NUM_THREADS)]\n",
    "\n",
    "threads = []\n",
    "\n",
    "for thread_id, (start, end) in enumerate(zip(start_of_ranges, end_of_ranges)):\n",
    "    t = threading.Thread(target=translate_story_range, args=(start, end, thread_id))\n",
    "    threads.append(t)\n",
    "    t.start()\n",
    "\n",
    "for t in threads:\n",
    "    t.join()\n"
   ]
  },
  {
   "cell_type": "code",
   "execution_count": null,
   "metadata": {},
   "outputs": [],
   "source": []
  }
 ],
 "metadata": {
  "kernelspec": {
   "display_name": "tiny_stories",
   "language": "python",
   "name": "python3"
  },
  "language_info": {
   "codemirror_mode": {
    "name": "ipython",
    "version": 3
   },
   "file_extension": ".py",
   "mimetype": "text/x-python",
   "name": "python",
   "nbconvert_exporter": "python",
   "pygments_lexer": "ipython3",
   "version": "3.12.4"
  }
 },
 "nbformat": 4,
 "nbformat_minor": 2
}
