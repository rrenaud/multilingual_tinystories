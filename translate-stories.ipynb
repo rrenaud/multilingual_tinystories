{
 "cells": [
  {
   "cell_type": "code",
   "execution_count": 1,
   "metadata": {},
   "outputs": [
    {
     "name": "stderr",
     "output_type": "stream",
     "text": [
      "/home/rrenaud/miniconda3/envs/med_bib/lib/python3.12/site-packages/tqdm/auto.py:21: TqdmWarning: IProgress not found. Please update jupyter and ipywidgets. See https://ipywidgets.readthedocs.io/en/stable/user_install.html\n",
      "  from .autonotebook import tqdm as notebook_tqdm\n"
     ]
    }
   ],
   "source": [
    "import google.generativeai as genai\n",
    "import os\n",
    "import json\n",
    "from openai import OpenAI\n",
    "import tqdm\n",
    "import hashlib\n",
    "import time\n",
    "import threading"
   ]
  },
  {
   "cell_type": "code",
   "execution_count": 8,
   "metadata": {},
   "outputs": [],
   "source": [
    "openai_key = open(os.path.expanduser('~/.openai_key.txt')).read().strip()\n",
    "client = OpenAI(api_key=openai_key)"
   ]
  },
  {
   "cell_type": "code",
   "execution_count": 9,
   "metadata": {},
   "outputs": [],
   "source": [
    "stories = json.load(open('spanish_stories/stories_00.json', 'r'))"
   ]
  },
  {
   "cell_type": "code",
   "execution_count": 8,
   "metadata": {},
   "outputs": [
    {
     "name": "stdout",
     "output_type": "stream",
     "text": [
      "Un día, un niño llamado Leo jugó con cartas. Él tomó las cartas y las puso en un montón. Después, él las puso en otro montón. ¡Él inventó un nuevo juego! \n",
      "\n",
      "Leo miró las cartas. Él vio un gato. \"¡Miau!\" dijo el gato. Después, él vio un perro. \"¡Guau!\" dijo el perro. Leo sonrió. Él pensó que su juego era divertido. \n",
      "\n",
      "Después de jugar, Leo se fue a la cama. Él soñaba con el gato y el perro. En su sueño, el gato y el perro corrieron juntos. Ellos eran felices.\n",
      "\n",
      "¡De repente! Leo despertó. Él sintió que algo no estaba bien. Él fue a la ventana. Él vio al gato y al perro jugando afuera. ¡El sueño se había hecho realidad! \n",
      "\n",
      "Leo corrió afuera y jugó con el gato y el perro. Él jugó despacio. Él no quería asustarlos. Él era feliz. Él sabía que su sueño había sido real. \n",
      "\n"
     ]
    }
   ],
   "source": [
    "print(stories[0]['story'])"
   ]
  },
  {
   "cell_type": "code",
   "execution_count": 10,
   "metadata": {},
   "outputs": [],
   "source": [
    "def make_translation_request(story):\n",
    "    prompt = f\"\"\"You are tasked with translating a children's story from Spanish to English. \n",
    "Your goal is to create an accurate translation that maintains the original story's tone, style, and \n",
    "meaning while making it accessible to English-speaking children who only know simple words. \n",
    "Here is the Spanish story <spanish_story>{story}</spanish_story> \n",
    "Present your translation within <english_translation> tags.\"\"\"\n",
    "    return prompt\n",
    "    "
   ]
  },
  {
   "cell_type": "code",
   "execution_count": 11,
   "metadata": {},
   "outputs": [
    {
     "name": "stdout",
     "output_type": "stream",
     "text": [
      "You are tasked with translating a children's story from Spanish to English. \n",
      "Your goal is to create an accurate translation that maintains the original story's tone, style, and \n",
      "meaning while making it accessible to English-speaking children who only know simple words. \n",
      "Here is the Spanish story <spanish_story>Un día, un niño llamado Leo jugó con cartas. Él tomó las cartas y las puso en un montón. Después, él las puso en otro montón. ¡Él inventó un nuevo juego! \n",
      "\n",
      "Leo miró las cartas. Él vio un gato. \"¡Miau!\" dijo el gato. Después, él vio un perro. \"¡Guau!\" dijo el perro. Leo sonrió. Él pensó que su juego era divertido. \n",
      "\n",
      "Después de jugar, Leo se fue a la cama. Él soñaba con el gato y el perro. En su sueño, el gato y el perro corrieron juntos. Ellos eran felices.\n",
      "\n",
      "¡De repente! Leo despertó. Él sintió que algo no estaba bien. Él fue a la ventana. Él vio al gato y al perro jugando afuera. ¡El sueño se había hecho realidad! \n",
      "\n",
      "Leo corrió afuera y jugó con el gato y el perro. Él jugó despacio. Él no quería asustarlos. Él era feliz. Él sabía que su sueño había sido real. \n",
      "</spanish_story> \n",
      "Present your translation within <english_translation> tags.\n"
     ]
    }
   ],
   "source": [
    "print(make_translation_request(stories[0]['story']))"
   ]
  },
  {
   "cell_type": "code",
   "execution_count": 18,
   "metadata": {},
   "outputs": [],
   "source": [
    "def execute_translation_request(story_text):\n",
    "    req = make_translation_request(story_text)\n",
    "    return client.chat.completions.create(\n",
    "        model=\"gpt-4o-mini\",\n",
    "        max_tokens=4096,\n",
    "        messages = [{\"role\": \"user\", \"content\": req}])\n",
    "\n",
    "def get_translation(response):\n",
    "    return response.choices[0].message.content.split('<english_translation>')[1].split('</english_translation>')[0]\n",
    "\n",
    "def read_hashes():\n",
    "    hashes = set()\n",
    "    for fn in os.listdir('spanish_stories_translated'):\n",
    "        split_fn = fn.split('-')\n",
    "        hash = split_fn[2].removesuffix('.json')\n",
    "        hashes.add(hash)\n",
    "    return hashes\n"
   ]
  },
  {
   "cell_type": "code",
   "execution_count": 15,
   "metadata": {},
   "outputs": [],
   "source": [
    "def translate_and_save(story_json, thread_id):\n",
    "    resp = execute_translation_request(story_json['story'])\n",
    "    translation = get_translation(resp)\n",
    "    md5 = hashlib.md5(story_json['story'].encode()).hexdigest()\n",
    "    story_json['translation'] = translation\n",
    "    with open(f'spanish_stories_translated/story-{thread_id}-{md5}.json', 'w') as f:\n",
    "        json.dump(story_json, f)\n",
    "\n",
    "def translate_story_range(start, end, thread_id):\n",
    "    successes = 0\n",
    "    fails = 0\n",
    "    skips = 0\n",
    "    for i in range(start, end):\n",
    "        if hashlib.md5(stories[i]['story'].encode()).hexdigest() in hashes:\n",
    "            skips += 1\n",
    "            continue\n",
    "        try:\n",
    "            translate_and_save(stories[i], thread_id)\n",
    "            successes += 1\n",
    "        except Exception as e:\n",
    "            print('failed story', i, 'on thread', thread_id, 'because', e)\n",
    "            time.sleep(30)\n",
    "            fails += 1\n",
    "        if i % 10 == 0:\n",
    "            print('thread', thread_id, 'completed', i - start, 'stories', 'successes:', successes, 'fails:', fails, 'skips:', skips)"
   ]
  },
  {
   "cell_type": "code",
   "execution_count": 19,
   "metadata": {},
   "outputs": [
    {
     "name": "stdout",
     "output_type": "stream",
     "text": [
      "read hashes 99994 examples ['755725a83fab4b98e52686da6008cd3d', '1512b7c811dd088f592fba2c63cc539b', 'a0e3dbe50394806d351fa1c03a7f924e', '2dccb68168dc8d63addf310a373f8366', '1b74df8e424a35e91d32473fc7eb4f9b']\n"
     ]
    }
   ],
   "source": [
    "hashes = read_hashes()\n",
    "print('read hashes', len(hashes), 'examples', list(hashes)[:5])\n",
    "\n",
    "NUM_THREADS = 1\n",
    "NUM_STORIES = len(stories)\n",
    "\n",
    "stories_per_thread = NUM_STORIES // NUM_THREADS\n",
    "start_of_ranges = [i * stories_per_thread for i in range(NUM_THREADS)]\n",
    "end_of_ranges = [(i + 1) * stories_per_thread for i in range(NUM_THREADS)]\n",
    "\n",
    "threads = []\n",
    "\n",
    "for thread_id, (start, end) in enumerate(zip(start_of_ranges, end_of_ranges)):\n",
    "    t = threading.Thread(target=translate_story_range, args=(start, end, thread_id))\n",
    "    threads.append(t)\n",
    "    t.start()\n",
    "\n",
    "for t in threads:\n",
    "    t.join()\n"
   ]
  },
  {
   "cell_type": "code",
   "execution_count": null,
   "metadata": {},
   "outputs": [],
   "source": []
  }
 ],
 "metadata": {
  "kernelspec": {
   "display_name": "tiny_stories",
   "language": "python",
   "name": "python3"
  },
  "language_info": {
   "codemirror_mode": {
    "name": "ipython",
    "version": 3
   },
   "file_extension": ".py",
   "mimetype": "text/x-python",
   "name": "python",
   "nbconvert_exporter": "python",
   "pygments_lexer": "ipython3",
   "version": "3.12.4"
  }
 },
 "nbformat": 4,
 "nbformat_minor": 2
}
